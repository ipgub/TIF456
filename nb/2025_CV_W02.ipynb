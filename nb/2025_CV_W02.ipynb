{
  "nbformat": 4,
  "nbformat_minor": 0,
  "metadata": {
    "colab": {
      "provenance": [],
      "toc_visible": true,
      "authorship_tag": "ABX9TyN+ntMRW/G7QFGV3TEquu5o",
      "include_colab_link": true
    },
    "kernelspec": {
      "name": "python3",
      "display_name": "Python 3"
    },
    "language_info": {
      "name": "python"
    }
  },
  "cells": [
    {
      "cell_type": "markdown",
      "metadata": {
        "id": "view-in-github",
        "colab_type": "text"
      },
      "source": [
        "<a href=\"https://colab.research.google.com/github/ipgub/TIF456/blob/main/nb/2025_CV_W02.ipynb\" target=\"_parent\"><img src=\"https://colab.research.google.com/assets/colab-badge.svg\" alt=\"Open In Colab\"/></a>"
      ]
    },
    {
      "cell_type": "code",
      "execution_count": null,
      "metadata": {
        "id": "XmGbxgBYZvDw"
      },
      "outputs": [],
      "source": [
        "import cv2\n",
        "from google.colab.patches import cv2_imshow\n",
        "import numpy as np\n",
        "import sys\n",
        "\n",
        "# Additional library\n",
        "import urllib.request\n"
      ]
    },
    {
      "cell_type": "code",
      "source": [
        "from google.colab import drive\n",
        "drive.mount('/content/drive')"
      ],
      "metadata": {
        "id": "IhQd6Mqd0qY5"
      },
      "execution_count": null,
      "outputs": []
    },
    {
      "cell_type": "markdown",
      "source": [
        "## Reading image from the web"
      ],
      "metadata": {
        "id": "48pNnP6ni7WF"
      }
    },
    {
      "cell_type": "code",
      "source": [
        "imgurl01 = 'https://sipi.usc.edu/database/preview/misc/5.3.01.png' # male\n",
        "imgurl02 = 'https://sipi.usc.edu/database/preview/misc/4.1.01.png' # female\n",
        "req = urllib.request.urlopen(imgurl02)\n",
        "arr = np.asarray(bytearray(req.read()), dtype = np.uint8)\n",
        "testImg = cv2.imdecode(arr, -1) # load as it is\n",
        "if testImg is None:\n",
        "  print ('Could not open image file')\n",
        "  sys.exit()"
      ],
      "metadata": {
        "id": "Cu9-KlmmZ3H-"
      },
      "execution_count": null,
      "outputs": []
    },
    {
      "cell_type": "code",
      "source": [
        "cv2_imshow(testImg)"
      ],
      "metadata": {
        "id": "8LrISEx5f0aa"
      },
      "execution_count": null,
      "outputs": []
    },
    {
      "cell_type": "code",
      "source": [
        "testImg.dtype, testImg.shape"
      ],
      "metadata": {
        "id": "98jD7n2Xguo9"
      },
      "execution_count": null,
      "outputs": []
    },
    {
      "cell_type": "code",
      "source": [
        "testImg"
      ],
      "metadata": {
        "id": "eNcQRGb3f4Jr"
      },
      "execution_count": null,
      "outputs": []
    },
    {
      "cell_type": "code",
      "source": [
        "testImg[:,:,0], testImg[:,:,1], testImg[:,:,2]"
      ],
      "metadata": {
        "id": "EAAVWxx7EjRO"
      },
      "execution_count": null,
      "outputs": []
    },
    {
      "cell_type": "code",
      "source": [
        "cv2_imshow(testImg[:,:,0])"
      ],
      "metadata": {
        "id": "WtlfZtCTf-RX"
      },
      "execution_count": null,
      "outputs": []
    },
    {
      "cell_type": "code",
      "source": [
        "cv2_imshow(testImg[:,:,1])"
      ],
      "metadata": {
        "id": "Q8C3Gu93ggGq"
      },
      "execution_count": null,
      "outputs": []
    },
    {
      "cell_type": "code",
      "source": [
        "cv2_imshow(testImg[:,:,2])"
      ],
      "metadata": {
        "id": "ynsWUik_goxZ"
      },
      "execution_count": null,
      "outputs": []
    },
    {
      "cell_type": "markdown",
      "source": [
        "## Reading Image from Drive"
      ],
      "metadata": {
        "id": "0O9oi3TXwvaK"
      }
    },
    {
      "cell_type": "code",
      "metadata": {
        "id": "mhWb2JsjbKlX"
      },
      "source": [
        "from google.colab import drive  # library for mounting google drive\n",
        "drive.mount('/content/gdrive', force_remount=True)  # command to mount our google drive\n",
        "import sys # library for adding path\n",
        "sys.path.append('/content/gdrive/My Drive/DIP') # adding path where we save the DIP module"
      ],
      "execution_count": null,
      "outputs": []
    },
    {
      "cell_type": "code",
      "source": [
        "!ls -l \"/content/gdrive/My Drive/DIP\""
      ],
      "metadata": {
        "id": "EYf_XBcfxOuK"
      },
      "execution_count": null,
      "outputs": []
    },
    {
      "cell_type": "code",
      "source": [
        "myImg = cv2.imread('/content/gdrive/My Drive/DIP/IPG-keybd.jpeg', -1) # load as it is using full path name of img\n",
        "if myImg is None:\n",
        "  print ('Could not open image file')\n",
        "  sys.exit()\n"
      ],
      "metadata": {
        "id": "b627wgTtgWhH"
      },
      "execution_count": null,
      "outputs": []
    },
    {
      "cell_type": "code",
      "source": [
        "cv2_imshow(myImg)"
      ],
      "metadata": {
        "id": "KjAWygamkWxt"
      },
      "execution_count": null,
      "outputs": []
    },
    {
      "cell_type": "code",
      "source": [
        "print (type(myImg))\n",
        "print (myImg.shape)\n",
        "print (myImg.dtype)"
      ],
      "metadata": {
        "id": "9_9sWUucxrDH"
      },
      "execution_count": null,
      "outputs": []
    },
    {
      "cell_type": "code",
      "source": [
        "# Convert the image to grayscale\n",
        "myImgGray = cv2.cvtColor(myImg,cv2.COLOR_BGR2GRAY)"
      ],
      "metadata": {
        "id": "VXn22XMly5ku"
      },
      "execution_count": null,
      "outputs": []
    },
    {
      "cell_type": "code",
      "source": [
        "cv2_imshow(myImgGray)"
      ],
      "metadata": {
        "id": "UROS1JjYGgws"
      },
      "execution_count": null,
      "outputs": []
    },
    {
      "cell_type": "code",
      "source": [
        "cv2_imshow(myImgGray[64:192,32:128])"
      ],
      "metadata": {
        "id": "pAYJRSPezWJY"
      },
      "execution_count": null,
      "outputs": []
    },
    {
      "cell_type": "markdown",
      "source": [
        "## Inverse Image"
      ],
      "metadata": {
        "id": "tenj2Z510SFf"
      }
    },
    {
      "cell_type": "markdown",
      "source": [
        "$$\n",
        "\\hat{I}(x,y) = \\max - I(x,y)\n",
        "$$"
      ],
      "metadata": {
        "id": "evUe0K1e1ZXT"
      }
    },
    {
      "cell_type": "code",
      "source": [
        "imgHeight = myImgGray.shape[0]\n",
        "imgWidth = myImgGray.shape[1]"
      ],
      "metadata": {
        "id": "ItPk9nt5zZHD"
      },
      "execution_count": null,
      "outputs": []
    },
    {
      "cell_type": "code",
      "source": [
        "invImg = 0 * np.ones((imgHeight,imgWidth), np.uint8)  # can also used np.zeros\n",
        "cv2_imshow(invImg)"
      ],
      "metadata": {
        "id": "yOEDGyW80eCj"
      },
      "execution_count": null,
      "outputs": []
    },
    {
      "cell_type": "code",
      "source": [
        "for row in range(imgHeight):\n",
        "  for col in range(imgWidth):\n",
        "    invImg[row,col] = 255 - myImgGray[row,col]"
      ],
      "metadata": {
        "id": "qCOMXD3h1B4C"
      },
      "execution_count": null,
      "outputs": []
    },
    {
      "cell_type": "code",
      "source": [
        "cv2_imshow(invImg)"
      ],
      "metadata": {
        "id": "FY9ifpNQ18hQ"
      },
      "execution_count": null,
      "outputs": []
    },
    {
      "cell_type": "markdown",
      "source": [
        "## Splitting image into colored channel"
      ],
      "metadata": {
        "id": "BaolD1bb7E7x"
      }
    },
    {
      "cell_type": "code",
      "source": [
        "B, G, R = cv2.split(myImg)"
      ],
      "metadata": {
        "id": "1pOmDLLm6KtB"
      },
      "execution_count": null,
      "outputs": []
    },
    {
      "cell_type": "code",
      "source": [
        "cv2_imshow(B)"
      ],
      "metadata": {
        "id": "SnyKLqHg6Ywo"
      },
      "execution_count": null,
      "outputs": []
    },
    {
      "cell_type": "code",
      "source": [
        "cv2_imshow(G)"
      ],
      "metadata": {
        "id": "rsrgVFw06imS"
      },
      "execution_count": null,
      "outputs": []
    },
    {
      "cell_type": "code",
      "source": [
        "cv2_imshow(R)"
      ],
      "metadata": {
        "id": "_NS_7SFq6nhu"
      },
      "execution_count": null,
      "outputs": []
    },
    {
      "cell_type": "code",
      "source": [
        "nullImg = np.zeros((imgHeight,imgWidth), np.uint8)"
      ],
      "metadata": {
        "id": "UiLq-d-76p1_"
      },
      "execution_count": null,
      "outputs": []
    },
    {
      "cell_type": "code",
      "source": [
        "B_channel = cv2.merge((B,nullImg,nullImg))\n",
        "G_channel = cv2.merge((nullImg,G,nullImg))\n",
        "R_channel = cv2.merge((B,G,R))"
      ],
      "metadata": {
        "id": "VSxPaTDl6yHm"
      },
      "execution_count": null,
      "outputs": []
    },
    {
      "cell_type": "code",
      "source": [
        "cv2_imshow(B_channel)\n",
        "cv2_imshow(G_channel)\n",
        "cv2_imshow(R_channel)"
      ],
      "metadata": {
        "id": "mXkZwG2q64Yj"
      },
      "execution_count": null,
      "outputs": []
    },
    {
      "cell_type": "markdown",
      "source": [
        "## Image Thresholding"
      ],
      "metadata": {
        "id": "c7ajq5Py7oSU"
      }
    },
    {
      "cell_type": "code",
      "source": [
        "thr, binaryImg = cv2.threshold(myImgGray, 128 , 255,cv2.THRESH_BINARY)\n",
        "cv2_imshow(myImgGray),cv2_imshow(binaryImg),thr"
      ],
      "metadata": {
        "id": "m7GhKmkJ67Tm"
      },
      "execution_count": null,
      "outputs": []
    },
    {
      "cell_type": "code",
      "source": [
        "thr, binaryImg = cv2.threshold(myImgGray, 128, 255,cv2.THRESH_BINARY + cv2.THRESH_OTSU)\n",
        "cv2_imshow(myImgGray),cv2_imshow(binaryImg)"
      ],
      "metadata": {
        "id": "CI-96FYmHCkE"
      },
      "execution_count": null,
      "outputs": []
    },
    {
      "cell_type": "markdown",
      "source": [
        "## Create Image"
      ],
      "metadata": {
        "id": "RMHZMXjWHj5b"
      }
    },
    {
      "cell_type": "markdown",
      "source": [
        "### Gradation"
      ],
      "metadata": {
        "id": "a0qfSsqkI8IE"
      }
    },
    {
      "cell_type": "code",
      "source": [
        "# Create null image first\n",
        "imgHeight = 256\n",
        "imgWidth = 256\n",
        "createImgA = np.zeros((imgHeight,imgWidth), np.uint8)\n",
        "for row in range(imgHeight):\n",
        "  for col in range(imgWidth):\n",
        "    createImgA [row,col] = max(0, col - 1)"
      ],
      "metadata": {
        "id": "kwyMszSz8HWU"
      },
      "execution_count": null,
      "outputs": []
    },
    {
      "cell_type": "code",
      "source": [
        "cv2_imshow(createImgA)"
      ],
      "metadata": {
        "id": "RveayycaIZW-"
      },
      "execution_count": null,
      "outputs": []
    },
    {
      "cell_type": "markdown",
      "source": [
        "### Circle"
      ],
      "metadata": {
        "id": "kXucPzcPJTfF"
      }
    },
    {
      "cell_type": "code",
      "source": [
        "# Create null image first\n",
        "imgHeight = 256\n",
        "imgWidth = 256\n",
        "frame_radius = 90\n",
        "createImgB = np.zeros((imgHeight,imgWidth), np.uint8)\n",
        "for row in range(imgHeight):\n",
        "  for col in range(imgWidth):\n",
        "    dist = np.sqrt((row - 2 * imgHeight/4 )**2 + (col - 2*imgWidth/4)**2)\n",
        "    if dist < frame_radius:\n",
        "      createImgB [row,col] = 255\n",
        "    else:\n",
        "      createImgB [row,col] = 0\n",
        "\n"
      ],
      "metadata": {
        "id": "mbloDLLBJbTF"
      },
      "execution_count": null,
      "outputs": []
    },
    {
      "cell_type": "code",
      "source": [
        "cv2_imshow(createImgB)"
      ],
      "metadata": {
        "id": "b5XX4eKZJbTG"
      },
      "execution_count": null,
      "outputs": []
    },
    {
      "cell_type": "markdown",
      "source": [
        "### Combined"
      ],
      "metadata": {
        "id": "IvKG-e0QKHTb"
      }
    },
    {
      "cell_type": "code",
      "source": [
        "# Create null image first\n",
        "imgHeight = 256\n",
        "imgWidth = 256\n",
        "createImgC = np.zeros((imgHeight,imgWidth), np.uint8)\n",
        "for row in range(imgHeight):\n",
        "  for col in range(imgWidth):\n",
        "    createImgC [row,col] = int(createImgA [row,col]) * int(createImgB[row,col]) / 255"
      ],
      "metadata": {
        "id": "gAuVSzUTKt5N"
      },
      "execution_count": null,
      "outputs": []
    },
    {
      "cell_type": "code",
      "source": [
        "cv2_imshow(createImgC)"
      ],
      "metadata": {
        "id": "am2qXoApLn_2"
      },
      "execution_count": null,
      "outputs": []
    }
  ]
}